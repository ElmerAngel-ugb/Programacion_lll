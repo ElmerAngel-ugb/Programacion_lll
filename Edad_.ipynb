{
  "nbformat": 4,
  "nbformat_minor": 0,
  "metadata": {
    "colab": {
      "name": "Edad_.ipynb",
      "provenance": [],
      "collapsed_sections": [],
      "authorship_tag": "ABX9TyMFkHShZ4R0lHFnP7Xwc2tD",
      "include_colab_link": true
    },
    "kernelspec": {
      "name": "python3",
      "display_name": "Python 3"
    },
    "language_info": {
      "name": "python"
    }
  },
  "cells": [
    {
      "cell_type": "markdown",
      "metadata": {
        "id": "view-in-github",
        "colab_type": "text"
      },
      "source": [
        "<a href=\"https://colab.research.google.com/github/ElmerAngel-ugb/Programacion_lll/blob/Edad_/Edad_.ipynb\" target=\"_parent\"><img src=\"https://colab.research.google.com/assets/colab-badge.svg\" alt=\"Open In Colab\"/></a>"
      ]
    },
    {
      "cell_type": "code",
      "metadata": {
        "colab": {
          "base_uri": "https://localhost:8080/"
        },
        "id": "T0zRfQkRupKu",
        "outputId": "7cdff3eb-edaf-462f-a05e-6f90240940d5"
      },
      "source": [
        "from datetime import datetime\n",
        "from dateutil.relativedelta import relativedelta\n",
        "\n",
        "edad = relativedelta(datetime.now(), datetime(2002, 7, 10))\n",
        "print(f\"{edad.years} años, {edad.months} meses y {edad.days} días\")"
      ],
      "execution_count": 1,
      "outputs": [
        {
          "output_type": "stream",
          "text": [
            "19 años, 1 meses y 0 días\n"
          ],
          "name": "stdout"
        }
      ]
    }
  ]
}