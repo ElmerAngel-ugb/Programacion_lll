{
  "nbformat": 4,
  "nbformat_minor": 0,
  "metadata": {
    "colab": {
      "name": "Funciones Lambdan.ipynb",
      "provenance": [],
      "authorship_tag": "ABX9TyMgML/s/mNI8tDhYciOUDfU",
      "include_colab_link": true
    },
    "kernelspec": {
      "name": "python3",
      "display_name": "Python 3"
    },
    "language_info": {
      "name": "python"
    }
  },
  "cells": [
    {
      "cell_type": "markdown",
      "metadata": {
        "id": "view-in-github",
        "colab_type": "text"
      },
      "source": [
        "<a href=\"https://colab.research.google.com/github/ElmerAngel-ugb/Programacion_lll/blob/Funciones_Lambda/Funciones_Lambdan.ipynb\" target=\"_parent\"><img src=\"https://colab.research.google.com/assets/colab-badge.svg\" alt=\"Open In Colab\"/></a>"
      ]
    },
    {
      "cell_type": "code",
      "metadata": {
        "colab": {
          "base_uri": "https://localhost:8080/"
        },
        "id": "xQ-h5wey-4GZ",
        "outputId": "524714a1-f407-4d7f-edfa-9c24cc9cce18"
      },
      "source": [
        "conversion = lambda f: (f-32)*5/9\n",
        "f = float(input(\"Fahrenheit:\"))\n",
        "print(\"Grados F:\",f, \"a C\", conversion(f))"
      ],
      "execution_count": 1,
      "outputs": [
        {
          "output_type": "stream",
          "text": [
            "Fahrenheit:105.5\n",
            "Grados F: 105.5 a C 40.833333333333336\n"
          ],
          "name": "stdout"
        }
      ]
    },
    {
      "cell_type": "code",
      "metadata": {
        "colab": {
          "base_uri": "https://localhost:8080/"
        },
        "id": "mCA6etu0C0fM",
        "outputId": "f5458053-32eb-4d4f-84c8-e395245b55c0"
      },
      "source": [
        "cuadrado = lambda n:n**2\n",
        "n = int(input(\"N:\"))\n",
        "print(\"N\", n, \"al cuadrado es:\", cuadrado(n))"
      ],
      "execution_count": 26,
      "outputs": [
        {
          "output_type": "stream",
          "text": [
            "N:5\n",
            "N 5 al cuadrado es: 25\n"
          ],
          "name": "stdout"
        }
      ]
    },
    {
      "cell_type": "code",
      "metadata": {
        "id": "b-RBjwhoDYCG"
      },
      "source": [
        "cubo = lambda n:n**3\n",
        "n = int(input(\"n:\"))\n",
        "print(\"N:\", n, \"al cubo es\", cubo(n))"
      ],
      "execution_count": null,
      "outputs": []
    },
    {
      "cell_type": "code",
      "metadata": {
        "id": "GaJ11wZrM1he"
      },
      "source": [
        ""
      ],
      "execution_count": null,
      "outputs": []
    },
    {
      "cell_type": "code",
      "metadata": {
        "colab": {
          "base_uri": "https://localhost:8080/"
        },
        "id": "nHpSs4YHDv8G",
        "outputId": "3a95de07-c42f-4a2d-e59e-d4879b39d0fe"
      },
      "source": [
        "exp = lambda n, e:n**e\n",
        "n = int(input(\"N:\"))\n",
        "e = int(input(\"Exponente:\"))\n",
        "print(n, \"elevado al exp\", e, \"es:\", exp(n,e))"
      ],
      "execution_count": 2,
      "outputs": [
        {
          "output_type": "stream",
          "text": [
            "N:5\n",
            "Exponente:2\n",
            "5 elevado al exp 2 es: 25\n"
          ],
          "name": "stdout"
        }
      ]
    },
    {
      "cell_type": "code",
      "metadata": {
        "colab": {
          "base_uri": "https://localhost:8080/"
        },
        "id": "LSorP5WoFLXt",
        "outputId": "1e4977aa-1755-4689-dc6b-4a7a39129724"
      },
      "source": [
        "lista = [1,2,3,4]\n",
        "resp = list(map(lambda n:n*2, lista))\n",
        "print(resp)"
      ],
      "execution_count": 30,
      "outputs": [
        {
          "output_type": "stream",
          "text": [
            "[2, 4, 6, 8]\n"
          ],
          "name": "stdout"
        }
      ]
    },
    {
      "cell_type": "code",
      "metadata": {
        "colab": {
          "base_uri": "https://localhost:8080/"
        },
        "id": "2sesGY5rFylK",
        "outputId": "0c46afdc-e505-4b48-abc5-d234d2807a4d"
      },
      "source": [
        "gf_depto = [85,58,105]\n",
        "c_depto =list(map(conversion, gf_depto))\n",
        "print(\"los grados F:\", gf_depto, \"en celcius es:\", c_depto)"
      ],
      "execution_count": 18,
      "outputs": [
        {
          "output_type": "stream",
          "text": [
            "los grados F: [85, 58, 105] en celcius es: [29.444444444444443, 14.444444444444445, 40.55555555555556]\n"
          ],
          "name": "stdout"
        }
      ]
    },
    {
      "cell_type": "code",
      "metadata": {
        "colab": {
          "base_uri": "https://localhost:8080/"
        },
        "id": "Bs08LB7cHfoE",
        "outputId": "6e853d43-9ba2-4185-f6ce-784566fd68da"
      },
      "source": [
        "resp = list(filter(lambda n:n<=2, lista))\n",
        "print(\"Los numeros <=2 de la lista\", lista, \"son:\", resp)"
      ],
      "execution_count": 20,
      "outputs": [
        {
          "output_type": "stream",
          "text": [
            "Los numeros <=2 de la lista [1, 2, 3, 4, 5, 11, 88, 90, 100] son: [1, 2]\n"
          ],
          "name": "stdout"
        }
      ]
    },
    {
      "cell_type": "code",
      "metadata": {
        "colab": {
          "base_uri": "https://localhost:8080/"
        },
        "id": "XVBgXobwHuIw",
        "outputId": "3559808d-dfc9-40ca-8c15-b413a2cbd4e1"
      },
      "source": [
        "resp = list(filter(lambda n:n>=2, lista))\n",
        "print(\"Los numeros <=2 de la lista\", lista, \"son:\", resp)"
      ],
      "execution_count": 19,
      "outputs": [
        {
          "output_type": "stream",
          "text": [
            "Los numeros <=2 de la lista [1, 2, 3, 4, 5, 11, 88, 90, 100] son: [2, 3, 4, 5, 11, 88, 90, 100]\n"
          ],
          "name": "stdout"
        }
      ]
    },
    {
      "cell_type": "code",
      "metadata": {
        "colab": {
          "base_uri": "https://localhost:8080/"
        },
        "id": "QdtLGYQuIodi",
        "outputId": "daa0e34d-a107-47aa-de00-f7c9b556dba4"
      },
      "source": [
        "resp = list(filter(lambda n:n%2==0, lista))\n",
        "print(\"Los numeros pares de la lista\", lista, \"son:\", resp)"
      ],
      "execution_count": 22,
      "outputs": [
        {
          "output_type": "stream",
          "text": [
            "Los numeros pares de la lista [1, 2, 3, 4, 5, 11, 88, 90, 100] son: [2, 4, 88, 90, 100]\n"
          ],
          "name": "stdout"
        }
      ]
    },
    {
      "cell_type": "code",
      "metadata": {
        "colab": {
          "base_uri": "https://localhost:8080/"
        },
        "id": "MaqfQxLYKwOJ",
        "outputId": "1df87b47-c90c-4558-da03-855260f5fd89"
      },
      "source": [
        "resp = list(filter(lambda n:n%2--0, lista))\n",
        "print(\"Los numeros pares de la lista\", lista, \"son:\", resp)"
      ],
      "execution_count": 23,
      "outputs": [
        {
          "output_type": "stream",
          "text": [
            "Los numeros pares de la lista [1, 2, 3, 4, 5, 11, 88, 90, 100] son: [1, 3, 5, 11]\n"
          ],
          "name": "stdout"
        }
      ]
    },
    {
      "cell_type": "code",
      "metadata": {
        "colab": {
          "base_uri": "https://localhost:8080/"
        },
        "id": "OPrq_QpSJjjv",
        "outputId": "fa4adc85-c9e9-46d9-bb87-85a7829e78e7"
      },
      "source": [
        "resp = list(filter(lambda n:n % 2!= 0, lista))\n",
        "print(\"Los numeros impares de la lista\", lista, \"son:\", resp)"
      ],
      "execution_count": 27,
      "outputs": [
        {
          "output_type": "stream",
          "text": [
            "Los numeros impares de la lista [1, 2, 3, 4, 5, 11, 88, 90, 100] son: [1, 3, 5, 11]\n"
          ],
          "name": "stdout"
        }
      ]
    },
    {
      "cell_type": "code",
      "metadata": {
        "colab": {
          "base_uri": "https://localhost:8080/",
          "height": 145
        },
        "id": "HI7zKFNhM3F-",
        "outputId": "892395a0-8bfb-4669-fdf3-404801ac9372"
      },
      "source": [
        "from functools import reduce \n",
        "resp = reduce(lambda x,y:x+y, lista)\n",
        "print(\"La suma de la lista\", lista, \"es:\", resp, \"la media es:\" resp/len(lista))"
      ],
      "execution_count": 34,
      "outputs": [
        {
          "output_type": "error",
          "ename": "SyntaxError",
          "evalue": "ignored",
          "traceback": [
            "\u001b[0;36m  File \u001b[0;32m\"<ipython-input-34-554320e9b45c>\"\u001b[0;36m, line \u001b[0;32m3\u001b[0m\n\u001b[0;31m    print(\"La suma de la lista\", lista, \"es:\", resp, \"la media es:\" resp/len(lista))\u001b[0m\n\u001b[0m                                                                       ^\u001b[0m\n\u001b[0;31mSyntaxError\u001b[0m\u001b[0;31m:\u001b[0m invalid syntax\n"
          ]
        }
      ]
    }
  ]
}