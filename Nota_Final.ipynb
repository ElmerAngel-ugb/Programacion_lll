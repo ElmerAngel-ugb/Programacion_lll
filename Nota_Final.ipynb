{
  "nbformat": 4,
  "nbformat_minor": 0,
  "metadata": {
    "colab": {
      "name": "Nota_Final.ipynb",
      "provenance": [],
      "authorship_tag": "ABX9TyN6bVDZuAlnF6PLPxqa+XvN",
      "include_colab_link": true
    },
    "kernelspec": {
      "name": "python3",
      "display_name": "Python 3"
    },
    "language_info": {
      "name": "python"
    }
  },
  "cells": [
    {
      "cell_type": "markdown",
      "metadata": {
        "id": "view-in-github",
        "colab_type": "text"
      },
      "source": [
        "<a href=\"https://colab.research.google.com/github/ElmerAngel-ugb/Programacion_lll/blob/Nota_Final/Nota_Final.ipynb\" target=\"_parent\"><img src=\"https://colab.research.google.com/assets/colab-badge.svg\" alt=\"Open In Colab\"/></a>"
      ]
    },
    {
      "cell_type": "code",
      "metadata": {
        "colab": {
          "base_uri": "https://localhost:8080/"
        },
        "id": "R25gjFBJGefQ",
        "outputId": "9831487e-d355-4cd7-8d40-c00f3ef64d7f"
      },
      "source": [
        "print(\"Computo 1:\")\n",
        "n1c1 = float(input(\"Ingrese la nota del laboratorio 1: \"))\n",
        "n2c1 = float(input(\"Ingrese la nota del laboratorio 2: \"))\n",
        "pc1 = float(input(\"Ingrese la nota del parcial: \"))\n",
        "\n",
        "resultadoc1 = n1c1*0.30 + n2c1*0.30 + pc1*0.40\n",
        "print(\"Su nota es de: \", resultadoc1)\n",
        "\n",
        "print(\"\")\n",
        "\n",
        "print(\"Computo 2\")\n",
        "n1c2 = float(input(\"Ingrese la nota del laboratorio 1: \"))\n",
        "n2c2 = float(input(\"Ingrese la nota del laboratorio 2: \"))\n",
        "pc2 = float(input(\"Ingrese la nota del parcial: \"))\n",
        "\n",
        "resultadoc2 = n1c2*0.30 + n2c2*0.30 + pc2*0.40\n",
        "print(\"Su nota es de: \", resultadoc2)\n",
        "\n",
        "print(\"\")\n",
        "\n",
        "print(\"Computo 3\")\n",
        "n1c3 = float(input(\"Ingrese la nota del laboratorio 1: \"))\n",
        "n2c3 = float(input(\"Ingrese la nota del laboratorio 2: \"))\n",
        "pc3 = float(input(\"Ingrese la nota del parcial: \"))\n",
        "\n",
        "resultadoc3 = n1c3*0.30 + n2c3*0.30 + pc3*0.40\n",
        "print(\"Su nota es de: \", resultadoc3)\n",
        "\n",
        "print(\"\")\n",
        "\n",
        "print(\"Nota Final\")\n",
        "ciclo =(resultadoc1 + resultadoc2 + resultadoc3)/ 3\n",
        "print(ciclo)"
      ],
      "execution_count": null,
      "outputs": [
        {
          "output_type": "stream",
          "text": [
            "Computo 1:\n"
          ],
          "name": "stdout"
        }
      ]
    }
  ]
}