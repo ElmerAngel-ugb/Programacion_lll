{
  "nbformat": 4,
  "nbformat_minor": 0,
  "metadata": {
    "colab": {
      "name": "Programacón_lll.ipynb",
      "provenance": [],
      "authorship_tag": "ABX9TyMZf2EbpNmN7T+xNetbwTKB",
      "include_colab_link": true
    },
    "kernelspec": {
      "name": "python3",
      "display_name": "Python 3"
    },
    "language_info": {
      "name": "python"
    }
  },
  "cells": [
    {
      "cell_type": "markdown",
      "metadata": {
        "id": "view-in-github",
        "colab_type": "text"
      },
      "source": [
        "<a href=\"https://colab.research.google.com/github/ElmerAngel-ugb/Programacion_lll/blob/Temperatura/Programac%C3%B3n_lll.ipynb\" target=\"_parent\"><img src=\"https://colab.research.google.com/assets/colab-badge.svg\" alt=\"Open In Colab\"/></a>"
      ]
    },
    {
      "cell_type": "code",
      "metadata": {
        "colab": {
          "base_uri": "https://localhost:8080/"
        },
        "id": "ZscRmGC6ikyd",
        "outputId": "3ce82f1a-c276-4100-a591-f39c437a9e14"
      },
      "source": [
        "respuesta = 7 - 4 + 5 * 2 + 2 / 2\n",
        "\n",
        "print(respuesta)"
      ],
      "execution_count": null,
      "outputs": [
        {
          "output_type": "stream",
          "text": [
            "14.0\n"
          ],
          "name": "stdout"
        }
      ]
    },
    {
      "cell_type": "code",
      "metadata": {
        "colab": {
          "base_uri": "https://localhost:8080/"
        },
        "id": "yUA-LoEYi_Sw",
        "outputId": "9b76529d-b83f-4889-9426-7dde2cd67d70"
      },
      "source": [
        "print(\"Hola mundo\", \"Bienvenidos a Progra III con Python\", \"Hola chicos, que tal...\")\n",
        " "
      ],
      "execution_count": null,
      "outputs": [
        {
          "output_type": "stream",
          "text": [
            "Hola mundo Bienvenidos a Progra III con Python Hola chicos, que tal...\n"
          ],
          "name": "stdout"
        }
      ]
    },
    {
      "cell_type": "code",
      "metadata": {
        "colab": {
          "base_uri": "https://localhost:8080/"
        },
        "id": "WIsspy1AjbvI",
        "outputId": "b9928738-6916-428e-9562-54e9651fe196"
      },
      "source": [
        "name = \"Luis Hernandez\"\n",
        "\n",
        "print( name[-2])"
      ],
      "execution_count": null,
      "outputs": [
        {
          "output_type": "stream",
          "text": [
            "e\n"
          ],
          "name": "stdout"
        }
      ]
    },
    {
      "cell_type": "code",
      "metadata": {
        "id": "qWp5c_PoqdVW"
      },
      "source": [
        "celsius = int(input(\"Ingrese la temperatura en grados celsius: \"))\n",
        "fahrenheit = 9.0/5.0 * celsius +32\n",
        "print(\"{} grados Celsius son {} grados Fahrenheit\".format(fahrenheit,celsius))"
      ],
      "execution_count": null,
      "outputs": []
    }
  ]
}